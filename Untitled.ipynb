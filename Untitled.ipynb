{
 "cells": [
  {
   "cell_type": "code",
   "execution_count": 10,
   "metadata": {
    "collapsed": true
   },
   "outputs": [],
   "source": [
    "from typing import Union,Sequence\n",
    "import numpy as np\n",
    "from scipy import stats\n",
    "def discrete(x: np.ndarray,n:int=5)->np.ndarray:\n",
    "    '''\n",
    "    计算出每位数据所处的百分位数区间位置,默认分为5段,段数从1开始计数,数值越大越接近100%\n",
    "    '''\n",
    "    if n<=0 or isinstance(x[0],np.str_):\n",
    "        return x\n",
    "    else:\n",
    "        res = np.array([0] * x.shape[-1], dtype=int)\n",
    "        setp = 100/n\n",
    "        for i in range(n):\n",
    "            point1 = stats.scoreatpercentile(x, i * setp)\n",
    "            point2 = stats.scoreatpercentile(x, (i + 1) * setp)\n",
    "            x1 = x[np.where((x >= point1) & (x <= point2))]\n",
    "            mask = np.in1d(x, x1)\n",
    "            res[mask] = (i + 1)\n",
    "        return res\n",
    "\n",
    "def discrete_features(X: np.ndarray,N:Union[int,Sequence[int]]= 5)->np.ndarray:\n",
    "    '''\n",
    "    计算特征矩阵每一项特征的百分位数均分离散化,\n",
    "    参数X必须为二维数组,且特征为列,数据为行,\n",
    "    如果N中的某一项为0,那么该项不分区间认为是离散的\n",
    "    '''\n",
    "    X = X.T\n",
    "    if isinstance(N,int):\n",
    "        N = [N for i in range(X.shape[0])]\n",
    "    if len(N) != X.shape[0]:\n",
    "        raise AttributeError(\"N must have the same len with the rows' len\")\n",
    "    temp = []\n",
    "    for i in range(X.shape[0]):\n",
    "        x = X[i,:]\n",
    "        x1 = discrete(x,n=N[i])\n",
    "        temp.append(x1)\n",
    "    return np.array(temp).T"
   ]
  },
  {
   "cell_type": "code",
   "execution_count": 11,
   "metadata": {
    "collapsed": true
   },
   "outputs": [],
   "source": [
    "x = np.array([1.0,4.0,5,6,3,6,7,8,3,6,7,8,9,11])"
   ]
  },
  {
   "cell_type": "code",
   "execution_count": 12,
   "metadata": {
    "collapsed": false
   },
   "outputs": [],
   "source": [
    "X = np.array([[1,4,5,6,3,6,7,8,3,6,7,8,9,11],\n",
    "          [1,4,5,6,3,6,7,8,3,6,7,8,9,11]\n",
    "         ],).T"
   ]
  },
  {
   "cell_type": "code",
   "execution_count": 17,
   "metadata": {
    "collapsed": false
   },
   "outputs": [
    {
     "data": {
      "text/plain": [
       "(14, 2)"
      ]
     },
     "execution_count": 17,
     "metadata": {},
     "output_type": "execute_result"
    }
   ],
   "source": [
    "X.shape"
   ]
  },
  {
   "cell_type": "code",
   "execution_count": 18,
   "metadata": {
    "collapsed": false
   },
   "outputs": [
    {
     "data": {
      "text/plain": [
       "array([ 1,  1,  4,  4,  5,  5,  6,  6,  3,  3,  6,  6,  7,  7,  8,  8,  3,\n",
       "        3,  6,  6,  7,  7,  8,  8,  9,  9, 11, 11])"
      ]
     },
     "execution_count": 18,
     "metadata": {},
     "output_type": "execute_result"
    }
   ],
   "source": [
    "X.reshape(X.shape[0]*X.shape[1])"
   ]
  },
  {
   "cell_type": "code",
   "execution_count": 33,
   "metadata": {
    "collapsed": true
   },
   "outputs": [],
   "source": [
    "y = np.array([\"a\",\"b\"])"
   ]
  },
  {
   "cell_type": "code",
   "execution_count": 34,
   "metadata": {
    "collapsed": false,
    "scrolled": true
   },
   "outputs": [
    {
     "name": "stdout",
     "output_type": "stream",
     "text": [
      "20.0\n",
      "40.0\n",
      "60.0\n",
      "80.0\n",
      "100.0\n"
     ]
    },
    {
     "data": {
      "text/plain": [
       "array([1, 2, 2, 3, 1, 3, 4, 5, 1, 3, 4, 5, 5, 5])"
      ]
     },
     "execution_count": 34,
     "metadata": {},
     "output_type": "execute_result"
    }
   ],
   "source": [
    "discrete(x)"
   ]
  },
  {
   "cell_type": "code",
   "execution_count": 35,
   "metadata": {
    "collapsed": false
   },
   "outputs": [
    {
     "data": {
      "text/plain": [
       "array(['a', 'b'], \n",
       "      dtype='<U1')"
      ]
     },
     "execution_count": 35,
     "metadata": {},
     "output_type": "execute_result"
    }
   ],
   "source": [
    "discrete(y)"
   ]
  },
  {
   "cell_type": "code",
   "execution_count": 31,
   "metadata": {
    "collapsed": false
   },
   "outputs": [
    {
     "data": {
      "text/plain": [
       "array([  1.,   4.,   5.,   6.,   3.,   6.,   7.,   8.,   3.,   6.,   7.,\n",
       "         8.,   9.,  11.])"
      ]
     },
     "execution_count": 31,
     "metadata": {},
     "output_type": "execute_result"
    }
   ],
   "source": [
    "discrete(x,0)"
   ]
  },
  {
   "cell_type": "code",
   "execution_count": 29,
   "metadata": {
    "collapsed": false
   },
   "outputs": [
    {
     "name": "stdout",
     "output_type": "stream",
     "text": [
      "11.11111111111111\n",
      "22.22222222222222\n",
      "33.33333333333333\n",
      "44.44444444444444\n",
      "55.55555555555556\n",
      "66.66666666666666\n",
      "77.77777777777777\n",
      "88.88888888888889\n",
      "100.0\n"
     ]
    },
    {
     "data": {
      "text/plain": [
       "array([1, 3, 3, 5, 2, 5, 7, 8, 2, 5, 7, 8, 9, 9])"
      ]
     },
     "execution_count": 29,
     "metadata": {},
     "output_type": "execute_result"
    }
   ],
   "source": [
    "discrete(x,9)"
   ]
  },
  {
   "cell_type": "code",
   "execution_count": 45,
   "metadata": {
    "collapsed": false
   },
   "outputs": [
    {
     "data": {
      "text/plain": [
       "array([[1, 1],\n",
       "       [2, 2],\n",
       "       [2, 2],\n",
       "       [4, 4],\n",
       "       [1, 1],\n",
       "       [4, 4],\n",
       "       [5, 5],\n",
       "       [6, 6],\n",
       "       [1, 1],\n",
       "       [4, 4],\n",
       "       [5, 5],\n",
       "       [6, 6],\n",
       "       [6, 6],\n",
       "       [6, 6]])"
      ]
     },
     "execution_count": 45,
     "metadata": {},
     "output_type": "execute_result"
    }
   ],
   "source": [
    "discrete_features(X,6)"
   ]
  },
  {
   "cell_type": "code",
   "execution_count": 44,
   "metadata": {
    "collapsed": true
   },
   "outputs": [],
   "source": [
    "from sklearn.preprocessing import OneHotEncoder"
   ]
  },
  {
   "cell_type": "code",
   "execution_count": 45,
   "metadata": {
    "collapsed": true
   },
   "outputs": [],
   "source": [
    "enc = OneHotEncoder()"
   ]
  },
  {
   "cell_type": "code",
   "execution_count": 46,
   "metadata": {
    "collapsed": false
   },
   "outputs": [
    {
     "ename": "ValueError",
     "evalue": "could not convert string to float: 'a'",
     "output_type": "error",
     "traceback": [
      "\u001b[0;31m---------------------------------------------------------------------------\u001b[0m",
      "\u001b[0;31mValueError\u001b[0m                                Traceback (most recent call last)",
      "\u001b[0;32m<ipython-input-46-5a9d5c22459c>\u001b[0m in \u001b[0;36m<module>\u001b[0;34m()\u001b[0m\n\u001b[0;32m----> 1\u001b[0;31m \u001b[0menc\u001b[0m\u001b[1;33m.\u001b[0m\u001b[0mfit\u001b[0m\u001b[1;33m(\u001b[0m\u001b[1;33m[\u001b[0m\u001b[1;34m\"a\"\u001b[0m\u001b[1;33m,\u001b[0m\u001b[1;34m\"b\"\u001b[0m\u001b[1;33m]\u001b[0m\u001b[1;33m)\u001b[0m\u001b[1;33m\u001b[0m\u001b[0m\n\u001b[0m",
      "\u001b[0;32mC:\\Users\\87\\Anaconda3\\lib\\site-packages\\sklearn\\preprocessing\\data.py\u001b[0m in \u001b[0;36mfit\u001b[0;34m(self, X, y)\u001b[0m\n\u001b[1;32m   1842\u001b[0m         \u001b[0mself\u001b[0m\u001b[1;33m\u001b[0m\u001b[0m\n\u001b[1;32m   1843\u001b[0m         \"\"\"\n\u001b[0;32m-> 1844\u001b[0;31m         \u001b[0mself\u001b[0m\u001b[1;33m.\u001b[0m\u001b[0mfit_transform\u001b[0m\u001b[1;33m(\u001b[0m\u001b[0mX\u001b[0m\u001b[1;33m)\u001b[0m\u001b[1;33m\u001b[0m\u001b[0m\n\u001b[0m\u001b[1;32m   1845\u001b[0m         \u001b[1;32mreturn\u001b[0m \u001b[0mself\u001b[0m\u001b[1;33m\u001b[0m\u001b[0m\n\u001b[1;32m   1846\u001b[0m \u001b[1;33m\u001b[0m\u001b[0m\n",
      "\u001b[0;32mC:\\Users\\87\\Anaconda3\\lib\\site-packages\\sklearn\\preprocessing\\data.py\u001b[0m in \u001b[0;36mfit_transform\u001b[0;34m(self, X, y)\u001b[0m\n\u001b[1;32m   1900\u001b[0m         \"\"\"\n\u001b[1;32m   1901\u001b[0m         return _transform_selected(X, self._fit_transform,\n\u001b[0;32m-> 1902\u001b[0;31m                                    self.categorical_features, copy=True)\n\u001b[0m\u001b[1;32m   1903\u001b[0m \u001b[1;33m\u001b[0m\u001b[0m\n\u001b[1;32m   1904\u001b[0m     \u001b[1;32mdef\u001b[0m \u001b[0m_transform\u001b[0m\u001b[1;33m(\u001b[0m\u001b[0mself\u001b[0m\u001b[1;33m,\u001b[0m \u001b[0mX\u001b[0m\u001b[1;33m)\u001b[0m\u001b[1;33m:\u001b[0m\u001b[1;33m\u001b[0m\u001b[0m\n",
      "\u001b[0;32mC:\\Users\\87\\Anaconda3\\lib\\site-packages\\sklearn\\preprocessing\\data.py\u001b[0m in \u001b[0;36m_transform_selected\u001b[0;34m(X, transform, selected, copy)\u001b[0m\n\u001b[1;32m   1695\u001b[0m     \u001b[0mX\u001b[0m \u001b[1;33m:\u001b[0m \u001b[0marray\u001b[0m \u001b[1;32mor\u001b[0m \u001b[0msparse\u001b[0m \u001b[0mmatrix\u001b[0m\u001b[1;33m,\u001b[0m \u001b[0mshape\u001b[0m\u001b[1;33m=\u001b[0m\u001b[1;33m(\u001b[0m\u001b[0mn_samples\u001b[0m\u001b[1;33m,\u001b[0m \u001b[0mn_features_new\u001b[0m\u001b[1;33m)\u001b[0m\u001b[1;33m\u001b[0m\u001b[0m\n\u001b[1;32m   1696\u001b[0m     \"\"\"\n\u001b[0;32m-> 1697\u001b[0;31m     \u001b[0mX\u001b[0m \u001b[1;33m=\u001b[0m \u001b[0mcheck_array\u001b[0m\u001b[1;33m(\u001b[0m\u001b[0mX\u001b[0m\u001b[1;33m,\u001b[0m \u001b[0maccept_sparse\u001b[0m\u001b[1;33m=\u001b[0m\u001b[1;34m'csc'\u001b[0m\u001b[1;33m,\u001b[0m \u001b[0mcopy\u001b[0m\u001b[1;33m=\u001b[0m\u001b[0mcopy\u001b[0m\u001b[1;33m,\u001b[0m \u001b[0mdtype\u001b[0m\u001b[1;33m=\u001b[0m\u001b[0mFLOAT_DTYPES\u001b[0m\u001b[1;33m)\u001b[0m\u001b[1;33m\u001b[0m\u001b[0m\n\u001b[0m\u001b[1;32m   1698\u001b[0m \u001b[1;33m\u001b[0m\u001b[0m\n\u001b[1;32m   1699\u001b[0m     \u001b[1;32mif\u001b[0m \u001b[0misinstance\u001b[0m\u001b[1;33m(\u001b[0m\u001b[0mselected\u001b[0m\u001b[1;33m,\u001b[0m \u001b[0msix\u001b[0m\u001b[1;33m.\u001b[0m\u001b[0mstring_types\u001b[0m\u001b[1;33m)\u001b[0m \u001b[1;32mand\u001b[0m \u001b[0mselected\u001b[0m \u001b[1;33m==\u001b[0m \u001b[1;34m\"all\"\u001b[0m\u001b[1;33m:\u001b[0m\u001b[1;33m\u001b[0m\u001b[0m\n",
      "\u001b[0;32mC:\\Users\\87\\Anaconda3\\lib\\site-packages\\sklearn\\utils\\validation.py\u001b[0m in \u001b[0;36mcheck_array\u001b[0;34m(array, accept_sparse, dtype, order, copy, force_all_finite, ensure_2d, allow_nd, ensure_min_samples, ensure_min_features, warn_on_dtype, estimator)\u001b[0m\n\u001b[1;32m    380\u001b[0m                                       force_all_finite)\n\u001b[1;32m    381\u001b[0m     \u001b[1;32melse\u001b[0m\u001b[1;33m:\u001b[0m\u001b[1;33m\u001b[0m\u001b[0m\n\u001b[0;32m--> 382\u001b[0;31m         \u001b[0marray\u001b[0m \u001b[1;33m=\u001b[0m \u001b[0mnp\u001b[0m\u001b[1;33m.\u001b[0m\u001b[0marray\u001b[0m\u001b[1;33m(\u001b[0m\u001b[0marray\u001b[0m\u001b[1;33m,\u001b[0m \u001b[0mdtype\u001b[0m\u001b[1;33m=\u001b[0m\u001b[0mdtype\u001b[0m\u001b[1;33m,\u001b[0m \u001b[0morder\u001b[0m\u001b[1;33m=\u001b[0m\u001b[0morder\u001b[0m\u001b[1;33m,\u001b[0m \u001b[0mcopy\u001b[0m\u001b[1;33m=\u001b[0m\u001b[0mcopy\u001b[0m\u001b[1;33m)\u001b[0m\u001b[1;33m\u001b[0m\u001b[0m\n\u001b[0m\u001b[1;32m    383\u001b[0m \u001b[1;33m\u001b[0m\u001b[0m\n\u001b[1;32m    384\u001b[0m         \u001b[1;32mif\u001b[0m \u001b[0mensure_2d\u001b[0m\u001b[1;33m:\u001b[0m\u001b[1;33m\u001b[0m\u001b[0m\n",
      "\u001b[0;31mValueError\u001b[0m: could not convert string to float: 'a'"
     ]
    }
   ],
   "source": [
    "enc.fit([\"a\",\"b\"])"
   ]
  },
  {
   "cell_type": "code",
   "execution_count": 3,
   "metadata": {
    "collapsed": false
   },
   "outputs": [],
   "source": [
    "a =['python','-m','coverage','run','--source=score_card_model','-m','unittest','discover','-v','-s','test']"
   ]
  },
  {
   "cell_type": "code",
   "execution_count": 4,
   "metadata": {
    "collapsed": false
   },
   "outputs": [
    {
     "data": {
      "text/plain": [
       "'python -m coverage run --source=score_card_model -m unittest discover -v -s test'"
      ]
     },
     "execution_count": 4,
     "metadata": {},
     "output_type": "execute_result"
    }
   ],
   "source": [
    "\" \".join(a)"
   ]
  },
  {
   "cell_type": "code",
   "execution_count": 5,
   "metadata": {
    "collapsed": true
   },
   "outputs": [],
   "source": [
    "a = [1,2,3]"
   ]
  },
  {
   "cell_type": "code",
   "execution_count": 7,
   "metadata": {
    "collapsed": true
   },
   "outputs": [],
   "source": [
    "from collections import Sequence"
   ]
  },
  {
   "cell_type": "code",
   "execution_count": 8,
   "metadata": {
    "collapsed": false
   },
   "outputs": [
    {
     "data": {
      "text/plain": [
       "True"
      ]
     },
     "execution_count": 8,
     "metadata": {},
     "output_type": "execute_result"
    }
   ],
   "source": [
    "isinstance(a,Sequence)"
   ]
  },
  {
   "cell_type": "code",
   "execution_count": 19,
   "metadata": {
    "collapsed": true
   },
   "outputs": [],
   "source": [
    "a =np.array([1,0,1,0,1,0])"
   ]
  },
  {
   "cell_type": "code",
   "execution_count": 20,
   "metadata": {
    "collapsed": false
   },
   "outputs": [
    {
     "data": {
      "text/plain": [
       "array([ True, False,  True, False,  True, False], dtype=bool)"
      ]
     },
     "execution_count": 20,
     "metadata": {},
     "output_type": "execute_result"
    }
   ],
   "source": [
    "a == 1"
   ]
  },
  {
   "cell_type": "code",
   "execution_count": 21,
   "metadata": {
    "collapsed": true
   },
   "outputs": [],
   "source": [
    "b = np.array([True,False,True,False,True,False])"
   ]
  },
  {
   "cell_type": "code",
   "execution_count": 22,
   "metadata": {
    "collapsed": false
   },
   "outputs": [
    {
     "data": {
      "text/plain": [
       "array([ True, False,  True, False,  True, False], dtype=bool)"
      ]
     },
     "execution_count": 22,
     "metadata": {},
     "output_type": "execute_result"
    }
   ],
   "source": [
    "b == 1"
   ]
  },
  {
   "cell_type": "code",
   "execution_count": 25,
   "metadata": {
    "collapsed": true
   },
   "outputs": [],
   "source": [
    "c = np.array([\"a\",\"b\",\"a\",\"b\",\"a\",\"b\"])"
   ]
  },
  {
   "cell_type": "code",
   "execution_count": 26,
   "metadata": {
    "collapsed": false
   },
   "outputs": [
    {
     "name": "stderr",
     "output_type": "stream",
     "text": [
      "C:\\Users\\87\\Anaconda3\\lib\\site-packages\\ipykernel\\__main__.py:1: FutureWarning: elementwise comparison failed; returning scalar instead, but in the future will perform elementwise comparison\n",
      "  if __name__ == '__main__':\n"
     ]
    },
    {
     "data": {
      "text/plain": [
       "False"
      ]
     },
     "execution_count": 26,
     "metadata": {},
     "output_type": "execute_result"
    }
   ],
   "source": [
    "c == 1"
   ]
  },
  {
   "cell_type": "code",
   "execution_count": 27,
   "metadata": {
    "collapsed": true
   },
   "outputs": [],
   "source": [
    "def count_binary(a, event=1):\n",
    "    event_count = (a == event).sum()\n",
    "    non_event_count = a.shape[-1] - event_count\n",
    "    return event_count, non_event_count"
   ]
  },
  {
   "cell_type": "code",
   "execution_count": 28,
   "metadata": {
    "collapsed": false
   },
   "outputs": [
    {
     "name": "stderr",
     "output_type": "stream",
     "text": [
      "C:\\Users\\87\\Anaconda3\\lib\\site-packages\\ipykernel\\__main__.py:2: FutureWarning: elementwise comparison failed; returning scalar instead, but in the future will perform elementwise comparison\n",
      "  from ipykernel import kernelapp as app\n"
     ]
    },
    {
     "ename": "AttributeError",
     "evalue": "'bool' object has no attribute 'sum'",
     "output_type": "error",
     "traceback": [
      "\u001b[0;31m---------------------------------------------------------------------------\u001b[0m",
      "\u001b[0;31mAttributeError\u001b[0m                            Traceback (most recent call last)",
      "\u001b[0;32m<ipython-input-28-c62f10f5019a>\u001b[0m in \u001b[0;36m<module>\u001b[0;34m()\u001b[0m\n\u001b[0;32m----> 1\u001b[0;31m \u001b[0mcount_binary\u001b[0m\u001b[1;33m(\u001b[0m\u001b[0mc\u001b[0m\u001b[1;33m)\u001b[0m\u001b[1;33m\u001b[0m\u001b[0m\n\u001b[0m",
      "\u001b[0;32m<ipython-input-27-b64d018e20dc>\u001b[0m in \u001b[0;36mcount_binary\u001b[0;34m(a, event)\u001b[0m\n\u001b[1;32m      1\u001b[0m \u001b[1;32mdef\u001b[0m \u001b[0mcount_binary\u001b[0m\u001b[1;33m(\u001b[0m\u001b[0ma\u001b[0m\u001b[1;33m,\u001b[0m \u001b[0mevent\u001b[0m\u001b[1;33m=\u001b[0m\u001b[1;36m1\u001b[0m\u001b[1;33m)\u001b[0m\u001b[1;33m:\u001b[0m\u001b[1;33m\u001b[0m\u001b[0m\n\u001b[0;32m----> 2\u001b[0;31m     \u001b[0mevent_count\u001b[0m \u001b[1;33m=\u001b[0m \u001b[1;33m(\u001b[0m\u001b[0ma\u001b[0m \u001b[1;33m==\u001b[0m \u001b[0mevent\u001b[0m\u001b[1;33m)\u001b[0m\u001b[1;33m.\u001b[0m\u001b[0msum\u001b[0m\u001b[1;33m(\u001b[0m\u001b[1;33m)\u001b[0m\u001b[1;33m\u001b[0m\u001b[0m\n\u001b[0m\u001b[1;32m      3\u001b[0m     \u001b[0mnon_event_count\u001b[0m \u001b[1;33m=\u001b[0m \u001b[0ma\u001b[0m\u001b[1;33m.\u001b[0m\u001b[0mshape\u001b[0m\u001b[1;33m[\u001b[0m\u001b[1;33m-\u001b[0m\u001b[1;36m1\u001b[0m\u001b[1;33m]\u001b[0m \u001b[1;33m-\u001b[0m \u001b[0mevent_count\u001b[0m\u001b[1;33m\u001b[0m\u001b[0m\n\u001b[1;32m      4\u001b[0m     \u001b[1;32mreturn\u001b[0m \u001b[0mevent_count\u001b[0m\u001b[1;33m,\u001b[0m \u001b[0mnon_event_count\u001b[0m\u001b[1;33m\u001b[0m\u001b[0m\n",
      "\u001b[0;31mAttributeError\u001b[0m: 'bool' object has no attribute 'sum'"
     ]
    }
   ],
   "source": [
    "count_binary(c)"
   ]
  },
  {
   "cell_type": "markdown",
   "metadata": {},
   "source": [
    "$$woe_i = log(\\frac {\\frac {Bad_i} {Bad_total}} {\\frac {Good_i} {Good_{total}})$$"
   ]
  },
  {
   "cell_type": "code",
   "execution_count": 29,
   "metadata": {
    "collapsed": true
   },
   "outputs": [],
   "source": [
    "a = 1\n",
    "b = 2\n",
    "\n",
    "c = f\"{a},{b}\""
   ]
  },
  {
   "cell_type": "code",
   "execution_count": 30,
   "metadata": {
    "collapsed": false
   },
   "outputs": [
    {
     "data": {
      "text/plain": [
       "'1,2'"
      ]
     },
     "execution_count": 30,
     "metadata": {},
     "output_type": "execute_result"
    }
   ],
   "source": [
    "c"
   ]
  },
  {
   "cell_type": "code",
   "execution_count": 31,
   "metadata": {
    "collapsed": false
   },
   "outputs": [
    {
     "data": {
      "text/plain": [
       "64"
      ]
     },
     "execution_count": 31,
     "metadata": {},
     "output_type": "execute_result"
    }
   ],
   "source": [
    "119-55"
   ]
  },
  {
   "cell_type": "code",
   "execution_count": 32,
   "metadata": {
    "collapsed": false
   },
   "outputs": [
    {
     "data": {
      "text/plain": [
       "array([  1.,   4.,   5.,   6.,   3.,   6.,   7.,   8.,   3.,   6.,   7.,\n",
       "         8.,   9.,  11.])"
      ]
     },
     "execution_count": 32,
     "metadata": {},
     "output_type": "execute_result"
    }
   ],
   "source": [
    "x"
   ]
  },
  {
   "cell_type": "code",
   "execution_count": 34,
   "metadata": {
    "collapsed": false
   },
   "outputs": [
    {
     "name": "stdout",
     "output_type": "stream",
     "text": [
      "The slowest run took 21.53 times longer than the fastest. This could mean that an intermediate result is being cached.\n",
      "1000000 loops, best of 3: 1.57 µs per loop\n"
     ]
    }
   ],
   "source": [
    "%timeit min(x)"
   ]
  },
  {
   "cell_type": "code",
   "execution_count": 35,
   "metadata": {
    "collapsed": false
   },
   "outputs": [
    {
     "name": "stdout",
     "output_type": "stream",
     "text": [
      "The slowest run took 32.20 times longer than the fastest. This could mean that an intermediate result is being cached.\n",
      "1000000 loops, best of 3: 1.52 µs per loop\n"
     ]
    }
   ],
   "source": [
    "%timeit x.min()"
   ]
  },
  {
   "cell_type": "code",
   "execution_count": 38,
   "metadata": {
    "collapsed": false
   },
   "outputs": [],
   "source": [
    "x = range(1,7,100)"
   ]
  },
  {
   "cell_type": "code",
   "execution_count": 42,
   "metadata": {
    "collapsed": false
   },
   "outputs": [
    {
     "data": {
      "text/plain": [
       "range(0, 10)"
      ]
     },
     "execution_count": 42,
     "metadata": {},
     "output_type": "execute_result"
    }
   ],
   "source": [
    "range(10)"
   ]
  },
  {
   "cell_type": "code",
   "execution_count": 79,
   "metadata": {
    "collapsed": false
   },
   "outputs": [
    {
     "data": {
      "text/plain": [
       "array([54, 80, 89, 49, 27, 99, 14, 83, 56, 27, 71,  3, 56, 42, 28, 82, 41,\n",
       "       26, 59, 19, 97, 51, 89, 83, 24, 46, 55, 96, 34, 72, 21, 91, 67, 83,\n",
       "       84, 89, 25, 63, 56, 12, 19, 15, 99, 84, 85,  8, 86, 48, 12, 91, 60,\n",
       "       97, 66, 66, 93, 57,  8, 20, 62, 59, 63, 46, 44, 22,  9, 27, 30, 14,\n",
       "       51, 94, 88, 32,  9, 64, 81,  4, 80, 67, 64,  2, 13, 28, 14, 84, 61,\n",
       "       74, 51, 60, 87,  4, 76,  3, 81, 55, 97, 18, 18, 17, 56, 46])"
      ]
     },
     "execution_count": 79,
     "metadata": {},
     "output_type": "execute_result"
    }
   ],
   "source": [
    "x"
   ]
  },
  {
   "cell_type": "code",
   "execution_count": 84,
   "metadata": {
    "collapsed": false
   },
   "outputs": [],
   "source": [
    "min_val = 1\n",
    "max_val = 101\n",
    "segment = 100\n",
    "step = (max_val-min_val)/segment\n",
    "X_min = np.arange(min_val,max_val,step)\n",
    "X_min_list = X_min.tolist()\n",
    "X_min_list.append(max_val)\n",
    "X_max_list = X_min_list[1:]\n",
    "X_max = np.array(X_max_list)\n",
    "X = zip(X_min,X_max)\n",
    "Y =np.array([len([k for k in x if  j>k>=i])  for i,j in X])"
   ]
  },
  {
   "cell_type": "code",
   "execution_count": 101,
   "metadata": {
    "collapsed": true
   },
   "outputs": [],
   "source": [
    "%matplotlib inline"
   ]
  },
  {
   "cell_type": "code",
   "execution_count": null,
   "metadata": {
    "collapsed": true
   },
   "outputs": [],
   "source": []
  },
  {
   "cell_type": "code",
   "execution_count": 97,
   "metadata": {
    "collapsed": false
   },
   "outputs": [],
   "source": [
    "plt.hist(x, 50, normed=1, facecolor='g', alpha=0.75)"
   ]
  },
  {
   "cell_type": "code",
   "execution_count": 98,
   "metadata": {
    "collapsed": false
   },
   "outputs": [
    {
     "data": {
      "text/plain": [
       "array([0, 1, 2, 2, 0, 0, 0, 2, 2, 0, 0, 2, 1, 3, 1, 0, 1, 2, 2, 1, 1, 1, 0,\n",
       "       1, 1, 1, 3, 2, 0, 1, 0, 1, 0, 1, 0, 0, 0, 0, 0, 0, 1, 1, 0, 1, 0, 3,\n",
       "       0, 1, 1, 0, 3, 0, 0, 1, 2, 4, 1, 0, 2, 2, 1, 1, 2, 2, 0, 2, 2, 0, 0,\n",
       "       0, 1, 1, 0, 1, 0, 1, 0, 0, 0, 2, 2, 1, 3, 3, 1, 1, 1, 1, 3, 0, 2, 0,\n",
       "       1, 1, 0, 1, 3, 0, 2, 0])"
      ]
     },
     "execution_count": 98,
     "metadata": {},
     "output_type": "execute_result"
    }
   ],
   "source": [
    "Y"
   ]
  },
  {
   "cell_type": "code",
   "execution_count": 100,
   "metadata": {
    "collapsed": false
   },
   "outputs": [
    {
     "data": {
      "text/plain": [
       "100"
      ]
     },
     "execution_count": 100,
     "metadata": {},
     "output_type": "execute_result"
    }
   ],
   "source": [
    "len(Y)"
   ]
  },
  {
   "cell_type": "code",
   "execution_count": 103,
   "metadata": {
    "collapsed": false
   },
   "outputs": [
    {
     "data": {
      "text/plain": [
       "(array([0, 1, 2, 2, 0, 0, 0, 2, 2, 0, 0, 2, 1, 3, 1, 0, 1, 2, 2, 1, 1, 1, 0,\n",
       "        1, 1, 1, 3, 2, 0, 1, 0, 1, 0, 1, 0, 0, 0, 0, 0, 0, 1, 1, 0, 1, 0, 3,\n",
       "        0, 1, 1, 0, 3, 0, 0, 1, 2, 4, 1, 0, 2, 2, 1, 1, 2, 2, 0, 2, 2, 0, 0,\n",
       "        0, 1, 1, 0, 1, 0, 1, 0, 0, 0, 2, 2, 1, 3, 3, 1, 1, 1, 1, 3, 0, 2, 0,\n",
       "        1, 1, 0, 1, 3, 0, 2, 0], dtype=int64),\n",
       " array([   1.,    2.,    3.,    4.,    5.,    6.,    7.,    8.,    9.,\n",
       "          10.,   11.,   12.,   13.,   14.,   15.,   16.,   17.,   18.,\n",
       "          19.,   20.,   21.,   22.,   23.,   24.,   25.,   26.,   27.,\n",
       "          28.,   29.,   30.,   31.,   32.,   33.,   34.,   35.,   36.,\n",
       "          37.,   38.,   39.,   40.,   41.,   42.,   43.,   44.,   45.,\n",
       "          46.,   47.,   48.,   49.,   50.,   51.,   52.,   53.,   54.,\n",
       "          55.,   56.,   57.,   58.,   59.,   60.,   61.,   62.,   63.,\n",
       "          64.,   65.,   66.,   67.,   68.,   69.,   70.,   71.,   72.,\n",
       "          73.,   74.,   75.,   76.,   77.,   78.,   79.,   80.,   81.,\n",
       "          82.,   83.,   84.,   85.,   86.,   87.,   88.,   89.,   90.,\n",
       "          91.,   92.,   93.,   94.,   95.,   96.,   97.,   98.,   99.,\n",
       "         100.,  101.]))"
      ]
     },
     "execution_count": 103,
     "metadata": {},
     "output_type": "execute_result"
    }
   ],
   "source": [
    "np.histogram(x,bins=100,range=(1,101))"
   ]
  },
  {
   "cell_type": "code",
   "execution_count": 121,
   "metadata": {
    "collapsed": false
   },
   "outputs": [],
   "source": [
    "import numpy as np\n",
    "from typing import Tuple\n",
    "import matplotlib.pyplot as plt\n",
    "\n",
    "class Distribution:\n",
    "\n",
    "    @staticmethod\n",
    "    def calculate(x:np.ndarray,segment:int = 100)->Tuple[np.ndarray,np.ndarray]:\n",
    "        min_val = min(x)\n",
    "        max_val = max(x)\n",
    "        step = (min_val-max_val)/segment\n",
    "        Y , X = np.histogram(x,bins=segment,range=(min_val,max_val))\n",
    "        return Y,X\n",
    "    @property\n",
    "    def x(self):\n",
    "        return self.__x\n",
    "\n",
    "    @property\n",
    "    def X(self):\n",
    "        return self.__X\n",
    "\n",
    "    @property\n",
    "    def Y(self):\n",
    "        return self.__Y\n",
    "\n",
    "    @property\n",
    "    def xticks(self):\n",
    "        return self.__xticks\n",
    "\n",
    "    @property\n",
    "    def segment(self)->int:\n",
    "        return self.__segment\n",
    "    @segment.setter\n",
    "    def segment(self,n:int):\n",
    "        if isinstance(n,int) and n>0:\n",
    "            self.__segment = n\n",
    "        else:\n",
    "            raise AttributeError(\"segment must be a positive integer\")\n",
    "\n",
    "    def __call__(self):\n",
    "        return dict(list(zip(self.xticks,self.Y)))\n",
    "    def __init__(self,x:np.ndarray,segment:int = 100):\n",
    "        self.__x = x\n",
    "        self.__segment = segment\n",
    "        self.calcul_distribution()\n",
    "    def calcul_distribution(self):\n",
    "        self.__Y,self.__X = Distribution.calculate(self.x,self.segment)\n",
    "        self.__xticks = [str(self.X[i])+'~'+str(self.X[i+1]) for i in range(len(self.Y))]\n",
    "\n",
    "    def draw(self):\n",
    "        xticks = self.xticks\n",
    "        plt.bar(range(len(self.Y)), self.Y)\n",
    "        for i,j in zip(range(len(self.Y)), self.Y):\n",
    "            plt.text(i,j+0.5,str(float(self.Y[i])/sum(self.Y)*100)+\"%\")\n",
    "\n",
    "        plt.xlim(-1,self.segment*1.1)\n",
    "        plt.xticks(range(len(self.xticks)))\n",
    "        plt.show()"
   ]
  },
  {
   "cell_type": "code",
   "execution_count": 122,
   "metadata": {
    "collapsed": true
   },
   "outputs": [],
   "source": [
    "x =np.random.randint(1,101,size=(100))"
   ]
  },
  {
   "cell_type": "code",
   "execution_count": 127,
   "metadata": {
    "collapsed": false
   },
   "outputs": [],
   "source": [
    "d = Distribution(x,50)"
   ]
  },
  {
   "cell_type": "code",
   "execution_count": 128,
   "metadata": {
    "collapsed": false
   },
   "outputs": [
    {
     "data": {
      "image/png": "[encoded data removed]",
      "text/plain": [
       "<matplotlib.figure.Figure at 0x8a73c18>"
      ]
     },
     "metadata": {},
     "output_type": "display_data"
    }
   ],
   "source": [
    "d.draw()"
   ]
  },
  {
   "cell_type": "code",
   "execution_count": 129,
   "metadata": {
    "collapsed": false
   },
   "outputs": [
    {
     "data": {
      "text/plain": [
       "{'11.8~13.76': 2,\n",
       " '13.76~15.72': 1,\n",
       " '15.72~17.68': 2,\n",
       " '17.68~19.64': 3,\n",
       " '19.64~21.6': 0,\n",
       " '2.0~3.96': 2,\n",
       " '21.6~23.56': 0,\n",
       " '23.56~25.52': 3,\n",
       " '25.52~27.48': 1,\n",
       " '27.48~29.44': 1,\n",
       " '29.44~31.4': 4,\n",
       " '3.96~5.92': 3,\n",
       " '31.4~33.36': 2,\n",
       " '33.36~35.32': 1,\n",
       " '35.32~37.28': 3,\n",
       " '37.28~39.24': 2,\n",
       " '39.24~41.2': 5,\n",
       " '41.2~43.16': 2,\n",
       " '43.16~45.12': 3,\n",
       " '45.12~47.08': 4,\n",
       " '47.08~49.04': 1,\n",
       " '49.04~51.0': 1,\n",
       " '5.92~7.88': 0,\n",
       " '51.0~52.96': 4,\n",
       " '52.96~54.92': 1,\n",
       " '54.92~56.88': 2,\n",
       " '56.88~58.84': 2,\n",
       " '58.84~60.8': 1,\n",
       " '60.8~62.76': 2,\n",
       " '62.76~64.72': 2,\n",
       " '64.72~66.68': 2,\n",
       " '66.68~68.64': 3,\n",
       " '68.64~70.6': 2,\n",
       " '7.88~9.84': 2,\n",
       " '70.6~72.56': 0,\n",
       " '72.56~74.52': 3,\n",
       " '74.52~76.48': 2,\n",
       " '76.48~78.44': 2,\n",
       " '78.44~80.4': 2,\n",
       " '80.4~82.36': 0,\n",
       " '82.36~84.32': 3,\n",
       " '84.32~86.28': 3,\n",
       " '86.28~88.24': 0,\n",
       " '88.24~90.2': 2,\n",
       " '9.84~11.8': 3,\n",
       " '90.2~92.16': 2,\n",
       " '92.16~94.12': 2,\n",
       " '94.12~96.08': 1,\n",
       " '96.08~98.04': 2,\n",
       " '98.04~100.0': 4}"
      ]
     },
     "execution_count": 129,
     "metadata": {},
     "output_type": "execute_result"
    }
   ],
   "source": [
    "d()"
   ]
  },
  {
   "cell_type": "code",
   "execution_count": null,
   "metadata": {
    "collapsed": true
   },
   "outputs": [],
   "source": []
  }
 ],
 "metadata": {
  "kernelspec": {
   "display_name": "Python 3",
   "language": "python",
   "name": "python3"
  },
  "language_info": {
   "codemirror_mode": {
    "name": "ipython",
    "version": 3
   },
   "file_extension": ".py",
   "mimetype": "text/x-python",
   "name": "python",
   "nbconvert_exporter": "python",
   "pygments_lexer": "ipython3",
   "version": "3.6.0"
  }
 },
 "nbformat": 4,
 "nbformat_minor": 2
}
