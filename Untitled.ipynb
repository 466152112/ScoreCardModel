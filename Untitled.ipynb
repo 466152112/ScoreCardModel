{
 "cells": [
  {
   "cell_type": "code",
   "execution_count": 16,
   "metadata": {
    "collapsed": true
   },
   "outputs": [],
   "source": [
    "import score_card_model"
   ]
  },
  {
   "cell_type": "code",
   "execution_count": 17,
   "metadata": {
    "collapsed": true
   },
   "outputs": [],
   "source": [
    "from score_card_model.feature_selection.distribution import Distribution"
   ]
  },
  {
   "cell_type": "code",
   "execution_count": 18,
   "metadata": {
    "collapsed": true
   },
   "outputs": [],
   "source": [
    "x = np.array([91, 16, 43, 13, 81, 91, 90,  4, 28, 63, 87, 36, 33, 96, 23, 74, 64,\n",
    "                          33, 84, 99, 89, 48,  9,  8, 34, 17, 31, 39, 65, 98, 90, 36, 41, 57,\n",
    "                          29, 83, 79, 85, 56, 40, 12, 95, 59, 26, 38, 88,  5, 53, 20, 86, 50,\n",
    "                          36, 74, 51, 10, 63, 17, 11, 47, 15, 47, 88, 34, 46,  1, 52, 71, 22,\n",
    "                          49, 67, 93, 11, 71,  2, 90, 68, 25, 52,  3, 79, 50, 33, 35,  2, 42,\n",
    "                          37, 69, 24, 52, 29, 43, 38, 71, 99, 50, 41, 84, 27, 80, 17])"
   ]
  },
  {
   "cell_type": "code",
   "execution_count": 19,
   "metadata": {
    "collapsed": true
   },
   "outputs": [],
   "source": [
    "d = Distribution(x,5)"
   ]
  },
  {
   "cell_type": "code",
   "execution_count": 20,
   "metadata": {
    "collapsed": false
   },
   "outputs": [
    {
     "data": {
      "image/png": "[encoded data removed]",
      "text/plain": [
       "<matplotlib.figure.Figure at 0x85db3c8>"
      ]
     },
     "metadata": {},
     "output_type": "display_data"
    }
   ],
   "source": [
    "d.draw()"
   ]
  },
  {
   "cell_type": "code",
   "execution_count": 21,
   "metadata": {
    "collapsed": false
   },
   "outputs": [
    {
     "data": {
      "text/plain": [
       "['1.0~20.6', '20.6~40.2', '40.2~59.8', '59.8~79.4', '79.4~99.0']"
      ]
     },
     "execution_count": 21,
     "metadata": {},
     "output_type": "execute_result"
    }
   ],
   "source": [
    "d.xticks"
   ]
  },
  {
   "cell_type": "code",
   "execution_count": 22,
   "metadata": {
    "collapsed": false
   },
   "outputs": [
    {
     "data": {
      "text/plain": [
       "{'1.0~20.6': 19,\n",
       " '20.6~40.2': 24,\n",
       " '40.2~59.8': 21,\n",
       " '59.8~79.4': 14,\n",
       " '79.4~99.0': 22}"
      ]
     },
     "execution_count": 22,
     "metadata": {},
     "output_type": "execute_result"
    }
   ],
   "source": [
    "d()"
   ]
  },
  {
   "cell_type": "markdown",
   "metadata": {},
   "source": [
    "$$woe_i = log(\\frac {\\frac {Bad_i} {Bad_{total}}} {\\frac {Good_i} {Good_{total}}})$$"
   ]
  },
  {
   "cell_type": "code",
   "execution_count": 80,
   "metadata": {
    "collapsed": false
   },
   "outputs": [],
   "source": [
    "import numpy as np\n",
    "from typing import Any,Union,Sequence, Tuple, Dict,Callable,List\n",
    "from score_card_model.utils.discretization.sharing import discrete\n",
    "from score_card_model.utils.check import check_array_binary,check_array_continuous\n",
    "from score_card_model.utils.count import count_binary\n",
    "from collections import OrderedDict\n",
    "from collections import Sequence as seq\n",
    "\n",
    "class Woe:\n",
    "    \"\"\"\n",
    "    注意woe和iv方法如果有discrete参数,必须是tuple(func,dict)或者list(tuple(func,dict))\n",
    "    \"\"\"\n",
    "    WOE_MIN = -20\n",
    "    WOE_MAX = 20\n",
    "    \n",
    "    @staticmethod\n",
    "    def _posibility(x:np.ndarray, tag:np.ndarray, event:Any=1,discrete:Callable = None,**kwargs)->Dict[any,Tuple[float,float]]:\n",
    "        \"\"\"\n",
    "        计算占总体的好坏占比\n",
    "        \"\"\"\n",
    "        if discrete:\n",
    "            x = discrete(x,**kwargs)\n",
    "        if not check_array_binary(tag):\n",
    "            raise AttributeError(\"tag must be a binary array\")\n",
    "        if check_array_continuous(x):\n",
    "            raise AttributeError(\"input array must not continuous\")\n",
    "        event_total, non_event_total = count_binary(tag, event=event)\n",
    "        x_labels = np.unique(x)\n",
    "        pos_dic = {}\n",
    "        for x1 in x_labels:\n",
    "            y1 = tag[np.where(x == x1)[0]]\n",
    "            event_count, non_event_count = count_binary(y1, event=event)\n",
    "            rate_event = 1.0 * event_count / event_total\n",
    "            rate_non_event = 1.0 * non_event_count / non_event_total\n",
    "            pos_dic[x1] = (rate_event,rate_non_event)\n",
    "        return pos_dic\n",
    "        \n",
    "            \n",
    "    \n",
    "    @staticmethod\n",
    "    def weight_of_evidence(x:np.ndarray, tag:np.ndarray, event:Any=1,woe_min=-20,woe_max=20,discrete:Callable = None,**kwargs)->Dict[any,float]:\n",
    "        '''\n",
    "        对单独一项自变量(列,特征)计算其woe和iv值.\n",
    "        woe计算公式:\n",
    "        :math: `woe_i = log(\\frac {\\frac {Bad_i} {Bad_{total}}} {\\frac {Good_i} {Good_{total}}})`\n",
    "        '''\n",
    "        woe_dict = {}\n",
    "        pos_dic = Woe._posibility(x=x,tag=tag,event = event,discrete = discrete,**kwargs)\n",
    "        for l,(rate_event,rate_non_event) in pos_dic.items():\n",
    "            if rate_event == 0:\n",
    "                woe1 = woe_min\n",
    "            elif rate_non_event == 0:\n",
    "                woe1 = woe_max\n",
    "            else:\n",
    "                woe1 = np.log(rate_event / rate_non_event)#np.log就是ln\n",
    "            woe_dict[l] = woe1\n",
    "        return woe_dict\n",
    "    @staticmethod\n",
    "    def information_value(x:np.ndarray, tag:np.ndarray, event:Any=1,woe_min=-20,woe_max=20,discrete:Callable = None,**kwargs)->float:\n",
    "        iv = 0\n",
    "        pos_dic = Woe._posibility(x=x,tag=tag,event=event,discrete = discrete,**kwargs)\n",
    "        for l,(rate_event,rate_non_event) in pos_dic.items():\n",
    "            if rate_event == 0:\n",
    "                woe1 = woe_min\n",
    "            elif rate_non_event == 0:\n",
    "                woe1 = woe_max\n",
    "            else:\n",
    "                woe1 = np.log(rate_event / rate_non_event)\n",
    "            iv += (rate_event - rate_non_event) * woe1\n",
    "        return iv\n",
    "    \n",
    "    \n",
    "    def __call__(self,X:np.ndarray,tag:np.ndarray, event:Any=1,label = None,\n",
    "                discrete:Union[None,Tuple[Callable,Dict],Sequence[Tuple[Callable,Dict]]] = None)->Dict[Any,Dict[Any,float]]:\n",
    "        if label:\n",
    "            len(label) != X.shape[-1]\n",
    "            raise AttributeError(\"label must have the same len with the features' number\")\n",
    "        result = {}  \n",
    "        if discrete:\n",
    "            if isinstance(discrete,tuple):\n",
    "                discrete=[discrete for i in range(X.shape[-1])]\n",
    "            if not label:\n",
    "                for i in range(X.shape[-1]):\n",
    "                    func,kws = discrete[i]\n",
    "                    result[str(i)]={'woe':self.woe_single_x(X[:,i],tag,event,discrete=func,**kws),\n",
    "                                    'iv':self.iv_single_x(X[:,i],tag,event,discrete=func,**kws)\n",
    "                                   }\n",
    "            else:\n",
    "                for i in range(X.shape[-1]):\n",
    "                    func,kws = discrete[i]\n",
    "                    result[label[i]]={'woe':self.woe_single_x(X[:,i],tag,event,discrete=func,**kws),\n",
    "                                    'iv':self.iv_single_x(X[:,i],tag,event,discrete=func,**kws)\n",
    "                                   }      \n",
    "        else:\n",
    "            if not label:\n",
    "                for i in range(X.shape[-1]):\n",
    "                    result[str(i)]={'woe':self.woe_single_x(X[:,i],tag,event),\n",
    "                                    'iv':self.iv_single_x(X[:,i],tag,event)\n",
    "                                   }\n",
    "            else:\n",
    "                for i in range(X.shape[-1]):\n",
    "                    result[label[i]]={'woe':self.woe_single_x(X[:,i],tag,event),\n",
    "                                    'iv':self.iv_single_x(X[:,i],tag,event)\n",
    "                                   }\n",
    "                    \n",
    "        result = OrderedDict(sorted(result.items(), key=lambda t: t[1][\"iv\"],reverse=True))\n",
    "        return result\n",
    "        \n",
    "        \n",
    "    def __init__(self,min_v=-20,max_v=20):\n",
    "        self.WOE_MIN = min_v\n",
    "        self.WOE_MAX = max_v\n",
    "    def woe_single_x(self, x:np.ndarray, tag:np.ndarray, event:Any=1,discrete:Callable = None,**kwargs)->Dict[Any,float]:\n",
    "        '''\n",
    "        对单独一项自变量(列,特征)计算其woe和iv值.\n",
    "        woe计算公式:\n",
    "\n",
    "        :math: `woe_i = log(\\frac {\\frac {Bad_i} {Bad_{total}}} {\\frac {Good_i} {Good_{total}}})`\n",
    "        '''\n",
    "        woe_dict = Woe.weight_of_evidence(x,tag,event,\n",
    "                                          woe_min=self.WOE_MIN,woe_max=self.WOE_MAX,discrete = discrete,**kwargs)\n",
    "        \n",
    "        return woe_dict\n",
    "    def iv_single_x(self, x:np.ndarray, tag:np.ndarray, event:Any=1,\n",
    "                    discrete:Callable = None,**kwargs)->float:\n",
    "        iv = Woe.information_value(x,tag,event,woe_min=self.WOE_MIN,woe_max=self.WOE_MAX,discrete = discrete,**kwargs)\n",
    "        return iv\n",
    "    \n",
    "    def woe(self,X:np.ndarray,tag:np.ndarray, event:Any=1,label = None,\n",
    "            discrete:Union[None,Tuple[Callable,Dict],List[Tuple[Callable,Dict]]] = None)->Dict[Any,Dict[Any,float]]:\n",
    "        if label:\n",
    "            len(label) != X.shape[-1]\n",
    "            raise AttributeError(\"label must have the same len with the features' number\")\n",
    "            \n",
    "        result = {}\n",
    "        if discrete:\n",
    "            if isinstance(discrete,tuple):\n",
    "                discrete=[discrete for i in range(X.shape[-1])]  \n",
    "            if not label:\n",
    "                for i in range(X.shape[-1]):\n",
    "                    print(discrete[i])\n",
    "                    func,kws = discrete[i]\n",
    "                    result[str(i)]=self.woe_single_x(X[:,i],tag,event,discrete=func,**kws)\n",
    "            else:\n",
    "                for i in range(X.shape[-1]):\n",
    "                    print(discrete[i])\n",
    "                    func,kws = discrete[i]\n",
    "                    result[label[i]]=self.woe_single_x(X[:,i],tag,event,discrete=func,**kws)\n",
    "\n",
    "        else:\n",
    "            if not label:\n",
    "                for i in range(X.shape[-1]):\n",
    "                    result[str(i)]=self.woe_single_x(X[:,i],tag,event)\n",
    "            else:\n",
    "                for i in range(X.shape[-1]):\n",
    "                    result[label[i]]=self.woe_single_x(X[:,i],tag,event)\n",
    "        return result\n",
    "            \n",
    "    \n",
    "    def iv(self,X:np.ndarray,tag:np.ndarray, event:Any=1,label = None,\n",
    "           discrete:Union[None,Tuple[Callable,Dict],List[Tuple[Callable,Dict]]] = None)->Dict[Any,float]:\n",
    "        if label:\n",
    "            len(label) != X.shape[-1]\n",
    "            raise AttributeError(\"label must have the same len with the features' number\")\n",
    "        result = {}\n",
    "        if discrete:\n",
    "            if isinstance(discrete,tuple):\n",
    "                discrete=[discrete for i in range(X.shape[-1])]   \n",
    "            if not label:\n",
    "                for i in range(X.shape[-1]):\n",
    "                    print(discrete[i])  \n",
    "                    func,kws = discrete[i]\n",
    "                    result[str(i)]=self.iv_single_x(X[:,i],tag,event,discrete=func,**kws)\n",
    "            else:\n",
    "                for i in range(X.shape[-1]):\n",
    "                    print(discrete[i])\n",
    "                    func,kws = discrete[i]\n",
    "                    result[label[i]]=self.iv_single_x(discrete(X[:,i]),tag,event,discrete=func,**kws)\n",
    "        else:\n",
    "            if not label:\n",
    "                for i in range(X.shape[-1]):\n",
    "                    result[str(i)]=self.iv_single_x(X[:,i],tag,event)\n",
    "            else:\n",
    "                for i in range(X.shape[-1]):\n",
    "                    result[label[i]]=self.iv_single_x(X[:,i],tag,event)\n",
    "        result = OrderedDict(sorted(result.items(), key=lambda t: t[1],reverse=True))                       \n",
    "        return result\n",
    "                  "
   ]
  },
  {
   "cell_type": "code",
   "execution_count": 2,
   "metadata": {
    "collapsed": true
   },
   "outputs": [],
   "source": [
    "x = np.array([91, 16, 43, 13, 81, 91, 90,  4, 28, 63, 87, 36, 33, 96, 23, 74, 64,\n",
    "                          33, 84, 99, 89, 48,  9,  8, 34, 17, 31, 39, 65, 98, 90, 36, 41, 57,\n",
    "                          29, 83, 79, 85, 56, 40, 12, 95, 59, 26, 38, 88,  5, 53, 20, 86, 50,\n",
    "                          36, 74, 51, 10, 63, 17, 11, 47, 15, 47, 88, 34, 46,  1, 52, 71, 22,\n",
    "                          49, 67, 93, 11, 71,  2, 90, 68, 25, 52,  3, 79, 50, 33, 35,  2, 42,\n",
    "                          37, 69, 24, 52, 29, 43, 38, 71, 99, 50, 41, 84, 27, 80, 17])"
   ]
  },
  {
   "cell_type": "code",
   "execution_count": 3,
   "metadata": {
    "collapsed": false
   },
   "outputs": [],
   "source": [
    "dx =discrete(x)"
   ]
  },
  {
   "cell_type": "code",
   "execution_count": 4,
   "metadata": {
    "collapsed": false
   },
   "outputs": [
    {
     "data": {
      "text/plain": [
       "array([5, 1, 3, 1, 4, 5, 5, 1, 2, 4, 5, 2, 2, 5, 2, 4, 4, 2, 5, 5, 5, 3, 1,\n",
       "       1, 2, 1, 2, 3, 4, 5, 5, 2, 3, 4, 2, 5, 4, 5, 4, 3, 1, 5, 4, 2, 3, 5,\n",
       "       1, 4, 1, 5, 3, 2, 4, 3, 1, 4, 1, 1, 3, 1, 3, 5, 2, 3, 1, 3, 4, 1, 3,\n",
       "       4, 5, 1, 4, 1, 5, 4, 2, 3, 1, 4, 3, 2, 2, 1, 3, 2, 4, 2, 3, 2, 3, 3,\n",
       "       4, 5, 3, 3, 5, 2, 4, 1])"
      ]
     },
     "execution_count": 4,
     "metadata": {},
     "output_type": "execute_result"
    }
   ],
   "source": [
    "dx"
   ]
  },
  {
   "cell_type": "code",
   "execution_count": 5,
   "metadata": {
    "collapsed": false
   },
   "outputs": [],
   "source": [
    "ddx = discrete(x,n=7)"
   ]
  },
  {
   "cell_type": "code",
   "execution_count": 6,
   "metadata": {
    "collapsed": false
   },
   "outputs": [
    {
     "data": {
      "text/plain": [
       "array([7, 1, 4, 1, 6, 7, 7, 1, 2, 5, 7, 3, 3, 7, 2, 6, 5, 3, 6, 7, 7, 4, 1,\n",
       "       1, 3, 2, 2, 3, 5, 7, 7, 3, 4, 5, 2, 6, 6, 6, 5, 3, 1, 7, 5, 2, 3, 7,\n",
       "       1, 5, 2, 6, 4, 3, 6, 4, 1, 5, 2, 1, 4, 1, 4, 7, 3, 4, 1, 5, 6, 2, 4,\n",
       "       5, 7, 1, 6, 1, 7, 5, 2, 5, 1, 6, 4, 3, 3, 1, 4, 3, 5, 2, 5, 2, 4, 3,\n",
       "       6, 7, 4, 4, 6, 2, 6, 2])"
      ]
     },
     "execution_count": 6,
     "metadata": {},
     "output_type": "execute_result"
    }
   ],
   "source": [
    "ddx"
   ]
  },
  {
   "cell_type": "code",
   "execution_count": 7,
   "metadata": {
    "collapsed": false
   },
   "outputs": [],
   "source": [
    "tag = np.random.uniform(size=(100,))>0.5"
   ]
  },
  {
   "cell_type": "code",
   "execution_count": 8,
   "metadata": {
    "collapsed": false
   },
   "outputs": [
    {
     "data": {
      "text/plain": [
       "array([False,  True, False, False, False,  True, False, False,  True,\n",
       "        True, False,  True, False, False,  True,  True,  True,  True,\n",
       "       False,  True,  True,  True,  True, False,  True, False,  True,\n",
       "        True,  True,  True, False,  True,  True, False, False,  True,\n",
       "       False, False, False, False, False,  True,  True,  True, False,\n",
       "       False, False,  True,  True, False,  True, False,  True, False,\n",
       "       False, False,  True,  True, False, False,  True,  True, False,\n",
       "        True,  True,  True, False,  True,  True,  True,  True, False,\n",
       "        True,  True, False,  True, False,  True,  True, False, False,\n",
       "        True, False, False, False,  True, False, False, False,  True,\n",
       "       False, False,  True, False, False, False, False,  True, False, False], dtype=bool)"
      ]
     },
     "execution_count": 8,
     "metadata": {},
     "output_type": "execute_result"
    }
   ],
   "source": [
    "tag"
   ]
  },
  {
   "cell_type": "code",
   "execution_count": 9,
   "metadata": {
    "collapsed": false
   },
   "outputs": [
    {
     "data": {
      "text/plain": [
       "{1: -0.16066536084845204,\n",
       " 2: 0.57900183534638605,\n",
       " 3: -0.24767673783808172,\n",
       " 4: 0.2406760300758502,\n",
       " 5: -0.36545977349446523}"
      ]
     },
     "execution_count": 9,
     "metadata": {},
     "output_type": "execute_result"
    }
   ],
   "source": [
    "Woe.weight_of_evidence(dx,tag)"
   ]
  },
  {
   "cell_type": "code",
   "execution_count": 10,
   "metadata": {
    "collapsed": false
   },
   "outputs": [
    {
     "data": {
      "text/plain": [
       "{1: -0.16066536084845204,\n",
       " 2: 0.57900183534638605,\n",
       " 3: -0.24767673783808172,\n",
       " 4: 0.2406760300758502,\n",
       " 5: -0.36545977349446523}"
      ]
     },
     "execution_count": 10,
     "metadata": {},
     "output_type": "execute_result"
    }
   ],
   "source": [
    "Woe.weight_of_evidence(x,tag,discrete=discrete)"
   ]
  },
  {
   "cell_type": "code",
   "execution_count": 11,
   "metadata": {
    "collapsed": false
   },
   "outputs": [
    {
     "data": {
      "text/plain": [
       "{1: -0.36545977349446523,\n",
       " 2: 0.62779199951581821,\n",
       " 3: 0.040005334613698991,\n",
       " 4: -0.24767673783808172,\n",
       " 5: 0.62779199951581821,\n",
       " 6: -0.54778133028841991,\n",
       " 7: -0.093526058010823476}"
      ]
     },
     "execution_count": 11,
     "metadata": {},
     "output_type": "execute_result"
    }
   ],
   "source": [
    "Woe.weight_of_evidence(ddx,tag)"
   ]
  },
  {
   "cell_type": "code",
   "execution_count": 12,
   "metadata": {
    "collapsed": false
   },
   "outputs": [
    {
     "data": {
      "text/plain": [
       "{1: -0.36545977349446523,\n",
       " 2: 0.62779199951581821,\n",
       " 3: 0.040005334613698991,\n",
       " 4: -0.24767673783808172,\n",
       " 5: 0.62779199951581821,\n",
       " 6: -0.54778133028841991,\n",
       " 7: -0.093526058010823476}"
      ]
     },
     "execution_count": 12,
     "metadata": {},
     "output_type": "execute_result"
    }
   ],
   "source": [
    "Woe.weight_of_evidence(x,tag,discrete=discrete,n=7)"
   ]
  },
  {
   "cell_type": "code",
   "execution_count": 23,
   "metadata": {
    "collapsed": false
   },
   "outputs": [
    {
     "data": {
      "text/plain": [
       "0.11813481576441469"
      ]
     },
     "execution_count": 23,
     "metadata": {},
     "output_type": "execute_result"
    }
   ],
   "source": [
    "Woe.information_value(dx,tag)"
   ]
  },
  {
   "cell_type": "code",
   "execution_count": 24,
   "metadata": {
    "collapsed": false
   },
   "outputs": [
    {
     "data": {
      "text/plain": [
       "0.11813481576441469"
      ]
     },
     "execution_count": 24,
     "metadata": {},
     "output_type": "execute_result"
    }
   ],
   "source": [
    "Woe.information_value(x,tag,discrete=discrete)"
   ]
  },
  {
   "cell_type": "code",
   "execution_count": 25,
   "metadata": {
    "collapsed": false
   },
   "outputs": [
    {
     "data": {
      "text/plain": [
       "0.17809246051109034"
      ]
     },
     "execution_count": 25,
     "metadata": {},
     "output_type": "execute_result"
    }
   ],
   "source": [
    "Woe.information_value(ddx,tag)"
   ]
  },
  {
   "cell_type": "code",
   "execution_count": 26,
   "metadata": {
    "collapsed": false
   },
   "outputs": [
    {
     "data": {
      "text/plain": [
       "0.17809246051109034"
      ]
     },
     "execution_count": 26,
     "metadata": {},
     "output_type": "execute_result"
    }
   ],
   "source": [
    "Woe.information_value(x,tag,discrete=discrete,n=7)"
   ]
  },
  {
   "cell_type": "code",
   "execution_count": 30,
   "metadata": {
    "collapsed": true
   },
   "outputs": [],
   "source": [
    "X = np.array([x,x,x]).T"
   ]
  },
  {
   "cell_type": "code",
   "execution_count": 85,
   "metadata": {
    "collapsed": false
   },
   "outputs": [
    {
     "data": {
      "text/plain": [
       "array([[91, 91, 91],\n",
       "       [16, 16, 16],\n",
       "       [43, 43, 43],\n",
       "       [13, 13, 13],\n",
       "       [81, 81, 81],\n",
       "       [91, 91, 91],\n",
       "       [90, 90, 90],\n",
       "       [ 4,  4,  4],\n",
       "       [28, 28, 28],\n",
       "       [63, 63, 63],\n",
       "       [87, 87, 87],\n",
       "       [36, 36, 36],\n",
       "       [33, 33, 33],\n",
       "       [96, 96, 96],\n",
       "       [23, 23, 23],\n",
       "       [74, 74, 74],\n",
       "       [64, 64, 64],\n",
       "       [33, 33, 33],\n",
       "       [84, 84, 84],\n",
       "       [99, 99, 99],\n",
       "       [89, 89, 89],\n",
       "       [48, 48, 48],\n",
       "       [ 9,  9,  9],\n",
       "       [ 8,  8,  8],\n",
       "       [34, 34, 34],\n",
       "       [17, 17, 17],\n",
       "       [31, 31, 31],\n",
       "       [39, 39, 39],\n",
       "       [65, 65, 65],\n",
       "       [98, 98, 98],\n",
       "       [90, 90, 90],\n",
       "       [36, 36, 36],\n",
       "       [41, 41, 41],\n",
       "       [57, 57, 57],\n",
       "       [29, 29, 29],\n",
       "       [83, 83, 83],\n",
       "       [79, 79, 79],\n",
       "       [85, 85, 85],\n",
       "       [56, 56, 56],\n",
       "       [40, 40, 40],\n",
       "       [12, 12, 12],\n",
       "       [95, 95, 95],\n",
       "       [59, 59, 59],\n",
       "       [26, 26, 26],\n",
       "       [38, 38, 38],\n",
       "       [88, 88, 88],\n",
       "       [ 5,  5,  5],\n",
       "       [53, 53, 53],\n",
       "       [20, 20, 20],\n",
       "       [86, 86, 86],\n",
       "       [50, 50, 50],\n",
       "       [36, 36, 36],\n",
       "       [74, 74, 74],\n",
       "       [51, 51, 51],\n",
       "       [10, 10, 10],\n",
       "       [63, 63, 63],\n",
       "       [17, 17, 17],\n",
       "       [11, 11, 11],\n",
       "       [47, 47, 47],\n",
       "       [15, 15, 15],\n",
       "       [47, 47, 47],\n",
       "       [88, 88, 88],\n",
       "       [34, 34, 34],\n",
       "       [46, 46, 46],\n",
       "       [ 1,  1,  1],\n",
       "       [52, 52, 52],\n",
       "       [71, 71, 71],\n",
       "       [22, 22, 22],\n",
       "       [49, 49, 49],\n",
       "       [67, 67, 67],\n",
       "       [93, 93, 93],\n",
       "       [11, 11, 11],\n",
       "       [71, 71, 71],\n",
       "       [ 2,  2,  2],\n",
       "       [90, 90, 90],\n",
       "       [68, 68, 68],\n",
       "       [25, 25, 25],\n",
       "       [52, 52, 52],\n",
       "       [ 3,  3,  3],\n",
       "       [79, 79, 79],\n",
       "       [50, 50, 50],\n",
       "       [33, 33, 33],\n",
       "       [35, 35, 35],\n",
       "       [ 2,  2,  2],\n",
       "       [42, 42, 42],\n",
       "       [37, 37, 37],\n",
       "       [69, 69, 69],\n",
       "       [24, 24, 24],\n",
       "       [52, 52, 52],\n",
       "       [29, 29, 29],\n",
       "       [43, 43, 43],\n",
       "       [38, 38, 38],\n",
       "       [71, 71, 71],\n",
       "       [99, 99, 99],\n",
       "       [50, 50, 50],\n",
       "       [41, 41, 41],\n",
       "       [84, 84, 84],\n",
       "       [27, 27, 27],\n",
       "       [80, 80, 80],\n",
       "       [17, 17, 17]])"
      ]
     },
     "execution_count": 85,
     "metadata": {},
     "output_type": "execute_result"
    }
   ],
   "source": [
    "X"
   ]
  },
  {
   "cell_type": "code",
   "execution_count": 31,
   "metadata": {
    "collapsed": false
   },
   "outputs": [
    {
     "data": {
      "text/plain": [
       "array([91, 16, 43, 13, 81, 91, 90,  4, 28, 63, 87, 36, 33, 96, 23, 74, 64,\n",
       "       33, 84, 99, 89, 48,  9,  8, 34, 17, 31, 39, 65, 98, 90, 36, 41, 57,\n",
       "       29, 83, 79, 85, 56, 40, 12, 95, 59, 26, 38, 88,  5, 53, 20, 86, 50,\n",
       "       36, 74, 51, 10, 63, 17, 11, 47, 15, 47, 88, 34, 46,  1, 52, 71, 22,\n",
       "       49, 67, 93, 11, 71,  2, 90, 68, 25, 52,  3, 79, 50, 33, 35,  2, 42,\n",
       "       37, 69, 24, 52, 29, 43, 38, 71, 99, 50, 41, 84, 27, 80, 17])"
      ]
     },
     "execution_count": 31,
     "metadata": {},
     "output_type": "execute_result"
    }
   ],
   "source": [
    "X[:,0]"
   ]
  },
  {
   "cell_type": "code",
   "execution_count": 82,
   "metadata": {
    "collapsed": true
   },
   "outputs": [],
   "source": [
    "woe = Woe()"
   ]
  },
  {
   "cell_type": "code",
   "execution_count": 73,
   "metadata": {
    "collapsed": false
   },
   "outputs": [
    {
     "name": "stdout",
     "output_type": "stream",
     "text": [
      "(<function discrete at 0x0000000007DCC730>, {'n': 4})\n",
      "(<function discrete at 0x0000000007DCC730>, {'n': 4})\n",
      "(<function discrete at 0x0000000007DCC730>, {'n': 4})\n"
     ]
    },
    {
     "data": {
      "text/plain": [
       "{'0': {1: -0.040037373059837185,\n",
       "  2: 0.040005334613699206,\n",
       "  3: 0.44547044272186359,\n",
       "  4: -0.42999829463203643},\n",
       " '1': {1: -0.040037373059837185,\n",
       "  2: 0.040005334613699206,\n",
       "  3: 0.44547044272186359,\n",
       "  4: -0.42999829463203643},\n",
       " '2': {1: -0.040037373059837185,\n",
       "  2: 0.040005334613699206,\n",
       "  3: 0.44547044272186359,\n",
       "  4: -0.42999829463203643}}"
      ]
     },
     "execution_count": 73,
     "metadata": {},
     "output_type": "execute_result"
    }
   ],
   "source": [
    "woe.woe(X,tag,discrete=(discrete,{\"n\":4}))"
   ]
  },
  {
   "cell_type": "code",
   "execution_count": 79,
   "metadata": {
    "collapsed": false
   },
   "outputs": [
    {
     "name": "stdout",
     "output_type": "stream",
     "text": [
      "(<function discrete at 0x0000000007DCC730>, {'n': 4})\n",
      "(<function discrete at 0x0000000007DCC730>, {'n': 4})\n",
      "(<function discrete at 0x0000000007DCC730>, {'n': 4})\n"
     ]
    },
    {
     "data": {
      "text/plain": [
       "OrderedDict([('0', 0.096952767841102516),\n",
       "             ('1', 0.096952767841102516),\n",
       "             ('2', 0.096952767841102516)])"
      ]
     },
     "execution_count": 79,
     "metadata": {},
     "output_type": "execute_result"
    }
   ],
   "source": [
    "woe.iv(X,tag,discrete=(discrete,{\"n\":4}))"
   ]
  },
  {
   "cell_type": "code",
   "execution_count": null,
   "metadata": {
    "collapsed": true
   },
   "outputs": [],
   "source": []
  },
  {
   "cell_type": "code",
   "execution_count": 26,
   "metadata": {
    "collapsed": false
   },
   "outputs": [
    {
     "data": {
      "text/plain": [
       "2.3025850929940459"
      ]
     },
     "execution_count": 26,
     "metadata": {},
     "output_type": "execute_result"
    }
   ],
   "source": [
    "np.log(10)"
   ]
  },
  {
   "cell_type": "code",
   "execution_count": 43,
   "metadata": {
    "collapsed": false
   },
   "outputs": [
    {
     "data": {
      "text/plain": [
       "0.046090312147287003"
      ]
     },
     "execution_count": 43,
     "metadata": {},
     "output_type": "execute_result"
    }
   ],
   "source": [
    "Woe.information_value(dx,tag)"
   ]
  },
  {
   "cell_type": "code",
   "execution_count": 65,
   "metadata": {
    "collapsed": true
   },
   "outputs": [],
   "source": [
    "d = {'2': 0.0969,\n",
    " '1': 0.0969527678411,\n",
    " '3': 0.096952767841102516}\n",
    "\n"
   ]
  },
  {
   "cell_type": "code",
   "execution_count": 68,
   "metadata": {
    "collapsed": false
   },
   "outputs": [
    {
     "data": {
      "text/plain": [
       "OrderedDict([('3', 0.09695276784110252),\n",
       "             ('1', 0.0969527678411),\n",
       "             ('2', 0.0969)])"
      ]
     },
     "execution_count": 68,
     "metadata": {},
     "output_type": "execute_result"
    }
   ],
   "source": [
    " OrderedDict(sorted(d.items(), key=lambda t: t[1],reverse=True))"
   ]
  },
  {
   "cell_type": "code",
   "execution_count": 83,
   "metadata": {
    "collapsed": false,
    "scrolled": true
   },
   "outputs": [
    {
     "data": {
      "text/plain": [
       "OrderedDict([('0',\n",
       "              {'iv': 0.096952767841102516,\n",
       "               'woe': {1: -0.040037373059837185,\n",
       "                2: 0.040005334613699206,\n",
       "                3: 0.44547044272186359,\n",
       "                4: -0.42999829463203643}}),\n",
       "             ('1',\n",
       "              {'iv': 0.096952767841102516,\n",
       "               'woe': {1: -0.040037373059837185,\n",
       "                2: 0.040005334613699206,\n",
       "                3: 0.44547044272186359,\n",
       "                4: -0.42999829463203643}}),\n",
       "             ('2',\n",
       "              {'iv': 0.096952767841102516,\n",
       "               'woe': {1: -0.040037373059837185,\n",
       "                2: 0.040005334613699206,\n",
       "                3: 0.44547044272186359,\n",
       "                4: -0.42999829463203643}})])"
      ]
     },
     "execution_count": 83,
     "metadata": {},
     "output_type": "execute_result"
    }
   ],
   "source": [
    "woe(X,tag,discrete=(discrete,{\"n\":4}))"
   ]
  },
  {
   "cell_type": "code",
   "execution_count": 84,
   "metadata": {
    "collapsed": false
   },
   "outputs": [
    {
     "data": {
      "text/plain": [
       "array([1, 2, 3, 4, 2, 4, 5, 6, 2, 4, 5, 6, 7, 7])"
      ]
     },
     "execution_count": 84,
     "metadata": {},
     "output_type": "execute_result"
    }
   ],
   "source": [
    "discrete(np.array([1,4,5,6,3,6,7,8,3,6,7,8,9,11]),n=7)"
   ]
  },
  {
   "cell_type": "code",
   "execution_count": null,
   "metadata": {
    "collapsed": true
   },
   "outputs": [],
   "source": []
  }
 ],
 "metadata": {
  "kernelspec": {
   "display_name": "Python 3",
   "language": "python",
   "name": "python3"
  },
  "language_info": {
   "codemirror_mode": {
    "name": "ipython",
    "version": 3
   },
   "file_extension": ".py",
   "mimetype": "text/x-python",
   "name": "python",
   "nbconvert_exporter": "python",
   "pygments_lexer": "ipython3",
   "version": "3.6.0"
  }
 },
 "nbformat": 4,
 "nbformat_minor": 2
}
